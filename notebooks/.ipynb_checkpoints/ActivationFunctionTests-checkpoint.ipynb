{
 "cells": [
  {
   "cell_type": "code",
   "execution_count": 1,
   "metadata": {},
   "outputs": [
    {
     "name": "stdout",
     "output_type": "stream",
     "text": [
      "Leaky ReLU Fprop Functionality Test Passed\n",
      "Leaky ReLU Bprop Test Passed\n"
     ]
    }
   ],
   "source": [
    "from mlp.test_methods import test_leaky_relu\n",
    "import numpy as np\n",
    "\n",
    "fprop_test, fprop_output, fprop_correct, \\\n",
    "bprop_test, bprop_output, bprop_correct = test_leaky_relu()\n",
    "\n",
    "assert fprop_test == 1.0, (\n",
    "'The leaky relu fprop functionality test failed'\n",
    "'Correct output is \\n\\n{0}\\n\\n but returned output is \\n\\n{1}\\n\\n difference is \\n\\n{2}'\n",
    ".format(fprop_correct, fprop_output, fprop_output-fprop_correct)\n",
    ")\n",
    "\n",
    "print(\"Leaky ReLU Fprop Functionality Test Passed\")\n",
    "\n",
    "assert bprop_test == 1.0, (\n",
    "'The leaky relu bprop functionality test failed'\n",
    "'Correct output is \\n\\n{0}\\n\\n but returned output is \\n\\n{1}\\n\\n difference is \\n\\n{2}'\n",
    ".format(bprop_correct, bprop_output, bprop_output-bprop_correct)\n",
    ")\n",
    "\n",
    "print(\"Leaky ReLU Bprop Test Passed\")"
   ]
  },
  {
   "cell_type": "code",
   "execution_count": 2,
   "metadata": {},
   "outputs": [
    {
     "ename": "ValueError",
     "evalue": "The truth value of an array with more than one element is ambiguous. Use a.any() or a.all()",
     "output_type": "error",
     "traceback": [
      "\u001b[1;31m---------------------------------------------------------------------------\u001b[0m",
      "\u001b[1;31mValueError\u001b[0m                                Traceback (most recent call last)",
      "\u001b[1;32m<ipython-input-2-b63d8c9ce259>\u001b[0m in \u001b[0;36m<module>\u001b[1;34m\u001b[0m\n\u001b[0;32m      4\u001b[0m \u001b[0mbprop_test_arg_leakiness\u001b[0m\u001b[1;33m,\u001b[0m \u001b[0mbprop_output_arg_leakiness\u001b[0m\u001b[1;33m,\u001b[0m \u001b[0mbprop_correct_arg_leakiness\u001b[0m\u001b[1;33m,\u001b[0m\u001b[0;31m \u001b[0m\u001b[0;31m\\\u001b[0m\u001b[1;33m\u001b[0m\u001b[1;33m\u001b[0m\u001b[0m\n\u001b[0;32m      5\u001b[0m \u001b[0mfprop_test_rng_leakiness\u001b[0m\u001b[1;33m,\u001b[0m \u001b[0mfprop_output_rng_leakiness\u001b[0m\u001b[1;33m,\u001b[0m \u001b[0mfprop_correct_rng_leakiness\u001b[0m\u001b[1;33m,\u001b[0m\u001b[0;31m \u001b[0m\u001b[0;31m\\\u001b[0m\u001b[1;33m\u001b[0m\u001b[1;33m\u001b[0m\u001b[0m\n\u001b[1;32m----> 6\u001b[1;33m \u001b[0mbprop_test_rng_leakiness\u001b[0m\u001b[1;33m,\u001b[0m \u001b[0mbprop_output_rng_leakiness\u001b[0m\u001b[1;33m,\u001b[0m \u001b[0mbprop_correct_rng_leakiness\u001b[0m \u001b[1;33m=\u001b[0m \u001b[0mtest_random_relu\u001b[0m\u001b[1;33m(\u001b[0m\u001b[1;33m)\u001b[0m\u001b[1;33m\u001b[0m\u001b[1;33m\u001b[0m\u001b[0m\n\u001b[0m\u001b[0;32m      7\u001b[0m \u001b[1;33m\u001b[0m\u001b[0m\n\u001b[0;32m      8\u001b[0m assert fprop_test_arg_leakiness == 1.0, (\n",
      "\u001b[1;32mc:\\users\\jycwy\\desktop\\edinburgh\\mlp\\~\\mlpractical\\mlp\\test_methods.py\u001b[0m in \u001b[0;36mtest_random_relu\u001b[1;34m()\u001b[0m\n\u001b[0;32m     40\u001b[0m     \u001b[1;31m# testing custom leakiness passed in fprop\u001b[0m\u001b[1;33m\u001b[0m\u001b[1;33m\u001b[0m\u001b[1;33m\u001b[0m\u001b[0m\n\u001b[0;32m     41\u001b[0m \u001b[1;33m\u001b[0m\u001b[0m\n\u001b[1;32m---> 42\u001b[1;33m     \u001b[0mout\u001b[0m \u001b[1;33m=\u001b[0m \u001b[0mlayer\u001b[0m\u001b[1;33m.\u001b[0m\u001b[0mfprop\u001b[0m\u001b[1;33m(\u001b[0m\u001b[0mx\u001b[0m\u001b[1;33m,\u001b[0m \u001b[0mleakiness\u001b[0m\u001b[1;33m=\u001b[0m\u001b[0mcorrect_outputs\u001b[0m\u001b[1;33m[\u001b[0m\u001b[1;34m'random_relu'\u001b[0m\u001b[1;33m]\u001b[0m\u001b[1;33m[\u001b[0m\u001b[1;34m'leakiness'\u001b[0m\u001b[1;33m]\u001b[0m\u001b[1;33m)\u001b[0m\u001b[1;33m\u001b[0m\u001b[1;33m\u001b[0m\u001b[0m\n\u001b[0m\u001b[0;32m     43\u001b[0m \u001b[1;33m\u001b[0m\u001b[0m\n\u001b[0;32m     44\u001b[0m     \u001b[0mgrads\u001b[0m \u001b[1;33m=\u001b[0m \u001b[0mlayer\u001b[0m\u001b[1;33m.\u001b[0m\u001b[0mbprop\u001b[0m\u001b[1;33m(\u001b[0m\u001b[0minputs\u001b[0m\u001b[1;33m=\u001b[0m\u001b[0mx\u001b[0m\u001b[1;33m,\u001b[0m \u001b[0moutputs\u001b[0m\u001b[1;33m=\u001b[0m\u001b[0mout\u001b[0m\u001b[1;33m,\u001b[0m \u001b[0mgrads_wrt_outputs\u001b[0m\u001b[1;33m=\u001b[0m\u001b[0mnp\u001b[0m\u001b[1;33m.\u001b[0m\u001b[0mones\u001b[0m\u001b[1;33m(\u001b[0m\u001b[0mx\u001b[0m\u001b[1;33m.\u001b[0m\u001b[0mshape\u001b[0m\u001b[1;33m)\u001b[0m\u001b[1;33m)\u001b[0m\u001b[1;33m\u001b[0m\u001b[1;33m\u001b[0m\u001b[0m\n",
      "\u001b[1;32mc:\\users\\jycwy\\desktop\\edinburgh\\mlp\\~\\mlpractical\\mlp\\layers.py\u001b[0m in \u001b[0;36mfprop\u001b[1;34m(self, inputs, leakiness)\u001b[0m\n\u001b[0;32m    395\u001b[0m         \u001b[0mFor\u001b[0m \u001b[0minputs\u001b[0m\u001b[0;31m \u001b[0m\u001b[0;31m`\u001b[0m\u001b[0mx\u001b[0m\u001b[0;31m`\u001b[0m \u001b[1;32mand\u001b[0m \u001b[0moutputs\u001b[0m\u001b[0;31m \u001b[0m\u001b[0;31m`\u001b[0m\u001b[0my\u001b[0m\u001b[0;31m`\u001b[0m \u001b[0mthis\u001b[0m \u001b[0mcorresponds\u001b[0m \u001b[0mto\u001b[0m\u001b[0;31m \u001b[0m\u001b[0;31m`\u001b[0m\u001b[0my\u001b[0m \u001b[1;33m=\u001b[0m \u001b[1;33m...\u001b[0m\u001b[1;33m,\u001b[0m \u001b[1;32melse\u001b[0m\u001b[0;31m`\u001b[0m\u001b[1;33m.\u001b[0m\u001b[1;33m\u001b[0m\u001b[1;33m\u001b[0m\u001b[0m\n\u001b[0;32m    396\u001b[0m         \"\"\"\n\u001b[1;32m--> 397\u001b[1;33m         \u001b[1;31m#self.alpha = self.rng.uniform(low=self.lower, high=self.upper, size=inputs.shape)\u001b[0m\u001b[1;33m\u001b[0m\u001b[1;33m\u001b[0m\u001b[1;33m\u001b[0m\u001b[0m\n\u001b[0m\u001b[0;32m    398\u001b[0m         \u001b[1;31m#outputs = np.where(inputs <= 0, self.alpha * inputs, inputs)\u001b[0m\u001b[1;33m\u001b[0m\u001b[1;33m\u001b[0m\u001b[1;33m\u001b[0m\u001b[0m\n\u001b[0;32m    399\u001b[0m \u001b[1;33m\u001b[0m\u001b[0m\n",
      "\u001b[1;31mValueError\u001b[0m: The truth value of an array with more than one element is ambiguous. Use a.any() or a.all()"
     ]
    }
   ],
   "source": [
    "from mlp.test_methods import test_random_relu\n",
    "\n",
    "fprop_test_arg_leakiness, fprop_output_arg_leakiness, fprop_correct_arg_leakiness, \\\n",
    "bprop_test_arg_leakiness, bprop_output_arg_leakiness, bprop_correct_arg_leakiness, \\\n",
    "fprop_test_rng_leakiness, fprop_output_rng_leakiness, fprop_correct_rng_leakiness, \\\n",
    "bprop_test_rng_leakiness, bprop_output_rng_leakiness, bprop_correct_rng_leakiness = test_random_relu()\n",
    "\n",
    "assert fprop_test_arg_leakiness == 1.0, (\n",
    "'The random relu fprop functionality when given an argument leakiness test failed'\n",
    "'Correct output is \\n\\n{0}\\n\\n but returned output is \\n\\n{1}\\n\\n difference is \\n\\n{2}'\n",
    ".format(fprop_correct_arg_leakiness, fprop_output_arg_leakiness, fprop_output_arg_leakiness-fprop_correct_arg_leakiness)\n",
    ")\n",
    "\n",
    "print(\"Random ReLU Fprop when given an argument leakiness Functionality Test Passed\")\n",
    "\n",
    "assert bprop_test_arg_leakiness == 1.0, (\n",
    "'The random relu bprop functionality when given an argument leakiness test failed'\n",
    "'Correct output is \\n\\n{0}\\n\\n but returned output is \\n\\n{1}\\n\\n difference is \\n\\n{2}'\n",
    ".format(bprop_correct_arg_leakiness, bprop_output_arg_leakiness, bprop_output_arg_leakiness-bprop_correct_arg_leakiness)\n",
    ")\n",
    "\n",
    "print(\"Random ReLU Bprop when using an argument leakiness Functionality Test Passed\")\n",
    "\n",
    "assert fprop_test_rng_leakiness == 1.0, (\n",
    "'The random relu fprop functionality when given an argument leakiness test failed'\n",
    "'Correct output is \\n\\n{0}\\n\\n but returned output is \\n\\n{1}\\n\\n difference is \\n\\n{2}'\n",
    ".format(fprop_correct_rng_leakiness, fprop_output_rng_leakiness, fprop_output_rng_leakiness-fprop_correct_rng_leakiness)\n",
    ")\n",
    "\n",
    "print(\"Random ReLU Fprop when using rng leakiness Functionality Test Passed\")\n",
    "\n",
    "assert bprop_test_rng_leakiness == 1.0, (\n",
    "'The random relu bprop functionality when given rng leakiness test failed'\n",
    "'Correct output is \\n\\n{0}\\n\\n but returned output is \\n\\n{1}\\n\\n difference is \\n\\n{2}'\n",
    ".format(bprop_correct_rng_leakiness, bprop_output_rng_leakiness, bprop_output_rng_leakiness-bprop_correct_rng_leakiness)\n",
    ")\n",
    "\n",
    "print(\"Random ReLU Bprop when using rng leakiness Functionality Passed\")"
   ]
  },
  {
   "cell_type": "code",
   "execution_count": 1,
   "metadata": {},
   "outputs": [
    {
     "name": "stdout",
     "output_type": "stream",
     "text": [
      "Parametric ReLU Fprop Functionality Test Passed\n",
      "Parametric ReLU Grads wrt Params Test Passed\n",
      "Parametric ReLU Bprop Test Passed\n"
     ]
    }
   ],
   "source": [
    "from mlp.test_methods import test_parametric_relu\n",
    "\n",
    "fprop_test, fprop_output, fprop_correct, \\\n",
    "bprop_test, bprop_output, bprop_correct, \\\n",
    "grads_wrt_param_test, grads_wrt_param_output, grads_wrt_param_correct = test_parametric_relu()\n",
    "\n",
    "assert fprop_test == 1.0, (\n",
    "'The parametric relu fprop functionality test failed'\n",
    "'Correct output is \\n\\n{0}\\n\\n but returned output is \\n\\n{1}\\n\\n difference is \\n\\n{2}'\n",
    ".format(fprop_correct, fprop_output, fprop_output-fprop_correct)\n",
    ")\n",
    "\n",
    "print(\"Parametric ReLU Fprop Functionality Test Passed\")\n",
    "\n",
    "assert grads_wrt_param_test == 1.0, (\n",
    "'The parametric relu grad_wrt_param functionality test failed'\n",
    "'Correct output is \\n\\n{0}\\n\\n but returned output is \\n\\n{1}\\n\\n difference is \\n\\n{2}'\n",
    ".format(grads_wrt_param_correct, grads_wrt_param_output, grads_wrt_param_output-grads_wrt_param_correct)\n",
    ")\n",
    "\n",
    "print(\"Parametric ReLU Grads wrt Params Test Passed\")\n",
    "\n",
    "assert bprop_test == 1.0, (\n",
    "'The parametric relu bprop functionality test failed'\n",
    "'Correct output is \\n\\n{0}\\n\\n but returned output is \\n\\n{1}\\n\\n difference is \\n\\n{2}'\n",
    ".format(bprop_correct, bprop_output, bprop_output-bprop_correct)\n",
    ")\n",
    "\n",
    "print(\"Parametric ReLU Bprop Test Passed\")"
   ]
  },
  {
   "cell_type": "code",
   "execution_count": 4,
   "metadata": {},
   "outputs": [
    {
     "name": "stdout",
     "output_type": "stream",
     "text": [
      "ELU Fprop Functionality Test Passed\n",
      "ELU Bprop Test Passed\n"
     ]
    }
   ],
   "source": [
    "from mlp.test_methods import test_exponential_linear_unit\n",
    "\n",
    "\n",
    "fprop_test, fprop_output, fprop_correct, \\\n",
    "bprop_test, bprop_output, bprop_correct = test_exponential_linear_unit()\n",
    "\n",
    "\n",
    "assert fprop_test == 1.0, (\n",
    "'The random relu fprop functionality test failed'\n",
    "'Correct output is \\n\\n{0}\\n\\n but returned output is \\n\\n{1}\\n\\n difference is \\n\\n{2}'\n",
    ".format(fprop_correct, fprop_output, fprop_output-fprop_correct)\n",
    ")\n",
    "\n",
    "print(\"ELU Fprop Functionality Test Passed\")\n",
    "\n",
    "assert bprop_test == 1.0, (\n",
    "'The random relu bprop functionality test failed'\n",
    "'Correct output is \\n\\n{0}\\n\\n but returned output is \\n\\n{1}\\n\\n difference is \\n\\n{2}'\n",
    ".format(bprop_correct, bprop_output, bprop_output-bprop_correct, bprop_output/bprop_correct)\n",
    ")\n",
    "\n",
    "\n",
    "\n",
    "print(\"ELU Bprop Test Passed\")"
   ]
  }
 ],
 "metadata": {
  "kernelspec": {
   "display_name": "Python 3",
   "language": "python",
   "name": "python3"
  },
  "language_info": {
   "codemirror_mode": {
    "name": "ipython",
    "version": 3
   },
   "file_extension": ".py",
   "mimetype": "text/x-python",
   "name": "python",
   "nbconvert_exporter": "python",
   "pygments_lexer": "ipython3",
   "version": "3.7.4"
  }
 },
 "nbformat": 4,
 "nbformat_minor": 2
}
